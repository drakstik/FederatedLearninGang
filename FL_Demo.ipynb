{
 "cells": [
  {
   "cell_type": "code",
   "execution_count": null,
   "id": "7ea3b484",
   "metadata": {},
   "outputs": [],
   "source": [
    "# REFERENCES\n",
    "\n",
    "# [1] https://www.tensorflow.org/federated/api_docs/python/tff/federated_computation\n",
    "# [2] TensorFlow Federated Tutorial Session, Google Tech Talk, Youtube, https://www.youtube.com/watch?v=JBNas6Yd30A\n",
    "\n",
    "# REQUIREMENTS\n",
    "\n",
    "# Might need to first install CMake\n",
    "# $ pip install CMake\n",
    "\n",
    "# tensorflow-federated: A Python open-source framework for machine learning and other computations on decentralized data.\n",
    "# $ pip install --upgrade tensorflow-federated\n",
    "\n",
    "# nest-asyncio: A Python module that patches asyncio to allow nested use of asyncio.run and loop.run_until_complete.\n",
    "# $ pip install --upgrade nest-asyncio"
   ]
  },
  {
   "cell_type": "code",
   "execution_count": 1,
   "id": "5f33f13d",
   "metadata": {},
   "outputs": [],
   "source": [
    "# Local networking stuff. Cant run on Google Colab due to security reasons.\n",
    "# Allowing the nested use of asyncio.run and Loop.run_until_complete.\n",
    "import nest_asyncio\n",
    "nest_asyncio.apply()"
   ]
  },
  {
   "cell_type": "code",
   "execution_count": 2,
   "id": "886a7ba5",
   "metadata": {},
   "outputs": [],
   "source": [
    "# TensorBoard provides the visualization and tooling needed for machine learning experimentation\n",
    "%load_ext tensorboard"
   ]
  },
  {
   "cell_type": "code",
   "execution_count": 4,
   "id": "f61c4aaf",
   "metadata": {},
   "outputs": [
    {
     "data": {
      "text/plain": [
       "2"
      ]
     },
     "execution_count": 4,
     "metadata": {},
     "output_type": "execute_result"
    }
   ],
   "source": [
    "import collections\n",
    "\n",
    "import numpy as np\n",
    "import tensorflow as tf\n",
    "import tensorflow_federated as tff\n",
    "\n",
    "np.random.seed(0)\n",
    "\n",
    "# A Federated Computation (or FC) is a computation where the data stays on clients' machines [2]\n",
    "# This function simulates a federated computation given any python computation [1]\n",
    "tff.federated_computation(lambda: 1+1)()\n",
    "\n",
    "# Federated Computations are made of three steps:\n",
    "#       1. Federated Broadcast: Publicly broadcast Global Model to clients.\n",
    "#       2. Federated Map: Privately train local parameters using private data and Global Model on the client-side.\n",
    "#       3. Federated Mean: Aggregate clients' locally trained parameters."
   ]
  },
  {
   "cell_type": "code",
   "execution_count": null,
   "id": "759bb8b5",
   "metadata": {},
   "outputs": [],
   "source": [
    "# Federated data is split amongst the clients and privately used in client-side Federated Mapping\n",
    "# To make things easy for demos, Tensorflow made MNIST into a federated data set by \n",
    "# keying the data by the original writer of the digits.\n",
    "emnist_train, emnist_test = tff.simulation.datasets.emnist.load_data()"
   ]
  },
  {
   "cell_type": "code",
   "execution_count": null,
   "id": "cfc7fd0c",
   "metadata": {},
   "outputs": [],
   "source": [
    "# Client IDs\n",
    "print(len(emnist_train.client_ids))\n",
    "print(emnist_train.client_ids)"
   ]
  },
  {
   "cell_type": "code",
   "execution_count": null,
   "id": "06a96ec7",
   "metadata": {},
   "outputs": [],
   "source": [
    "client_dataset = emnist_train.create_tf_dataset_for_client(emnist_train.client_ids[533])\n",
    "\n",
    "example_element = next(iter(example_dataset))\n",
    "\n",
    "example_element"
   ]
  },
  {
   "cell_type": "code",
   "execution_count": null,
   "id": "4bb26682",
   "metadata": {},
   "outputs": [],
   "source": [
    "from matplotlib import pyplot as plt\n",
    "plt.imshow(example_element['pixels'].numpy(), cmap='gray', aspect='equal')\n",
    "plt.grid(False)\n",
    "_ = plt.show()"
   ]
  }
 ],
 "metadata": {
  "kernelspec": {
   "display_name": "Python 3",
   "language": "python",
   "name": "python3"
  },
  "language_info": {
   "codemirror_mode": {
    "name": "ipython",
    "version": 3
   },
   "file_extension": ".py",
   "mimetype": "text/x-python",
   "name": "python",
   "nbconvert_exporter": "python",
   "pygments_lexer": "ipython3",
   "version": "3.6.9"
  }
 },
 "nbformat": 4,
 "nbformat_minor": 5
}
